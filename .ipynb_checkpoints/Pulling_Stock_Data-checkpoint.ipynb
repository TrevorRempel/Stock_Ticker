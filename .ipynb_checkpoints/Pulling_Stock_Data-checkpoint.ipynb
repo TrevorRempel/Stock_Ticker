{
 "cells": [
  {
   "cell_type": "code",
   "execution_count": 1,
   "metadata": {
    "collapsed": false
   },
   "outputs": [
    {
     "name": "stderr",
     "output_type": "stream",
     "text": [
      "/Users/tjrempel/anaconda/lib/python2.7/site-packages/IPython/html.py:14: ShimWarning: The `IPython.html` package has been deprecated. You should import from `notebook` instead. `IPython.html.widgets` has moved to `ipywidgets`.\n",
      "  \"`IPython.html.widgets` has moved to `ipywidgets`.\", ShimWarning)\n"
     ]
    }
   ],
   "source": [
    "import Quandl\n",
    "import numpy as np\n",
    "import pandas as pd \n",
    "from bokeh.plotting import figure, output_file, show, gridplot,vplot\n",
    "from bokeh.models import ColumnDataSource\n",
    "from bokeh.mpl import to_bokeh\n",
    "%matplotlib inline"
   ]
  },
  {
   "cell_type": "code",
   "execution_count": 2,
   "metadata": {
    "collapsed": false
   },
   "outputs": [],
   "source": [
    "f = open('qunadlApi.txt')\n",
    "key = f.readline().split(':')[-1]"
   ]
  },
  {
   "cell_type": "code",
   "execution_count": 41,
   "metadata": {
    "collapsed": true
   },
   "outputs": [],
   "source": [
    "def process_input():\n",
    "    patt = re.compile(r\"\\W+\")\n",
    "    stock = raw_input(\"Enter a Stock Ticker: \")\n",
    "    return re.split(patt, stock)"
   ]
  },
  {
   "cell_type": "code",
   "execution_count": 42,
   "metadata": {
    "collapsed": false
   },
   "outputs": [
    {
     "name": "stdout",
     "output_type": "stream",
     "text": [
      "Enter a Stock Ticker: GOOG, APPL, BBRY\n"
     ]
    }
   ],
   "source": [
    "stock = process_input()"
   ]
  },
  {
   "cell_type": "code",
   "execution_count": 43,
   "metadata": {
    "collapsed": false
   },
   "outputs": [
    {
     "data": {
      "text/plain": [
       "['GOOG', 'APPL', 'BBRY']"
      ]
     },
     "execution_count": 43,
     "metadata": {},
     "output_type": "execute_result"
    }
   ],
   "source": [
    "stock"
   ]
  },
  {
   "cell_type": "code",
   "execution_count": 46,
   "metadata": {
    "collapsed": false
   },
   "outputs": [],
   "source": [
    "def get_ticker(search_result):\n",
    "    ticker = search_result['code'].split('/')[-1].strip()\n",
    "    #name = search_result['name'].split('('+ticker+')')[0].strip()\n",
    "    return ticker\n",
    "\n",
    "def get_quandl_code(query, source = 'WIKI'):\n",
    "    search = Quandl.search(query, source = source, authtoken=key, verbose = False)\n",
    "    codes = {}\n",
    "    for item in search:\n",
    "        ticker = get_ticker(item)\n",
    "        codes[item['code']] = ticker\n",
    "    return codes\n",
    "def get_data_search(query, source = 'WIKI'):\n",
    "    df = {}\n",
    "    results = get_quandl_code(query)\n",
    "    for code, ticker in results.iteritems():\n",
    "        df[ticker] = Quandl.get(code, authtoken = key)\n",
    "    return df\n",
    "def get_data_quick(query, source = 'WIKI'):\n",
    "    df = {}\n",
    "    for val in query:\n",
    "        try:\n",
    "            df[val] = Quandl.get(source+'/'+val, authtoken = key)\n",
    "        except Quandl.DatasetNotFound:\n",
    "            continue\n",
    "    return df"
   ]
  },
  {
   "cell_type": "code",
   "execution_count": 6,
   "metadata": {
    "collapsed": true
   },
   "outputs": [],
   "source": [
    "def produce_plot(data):\n",
    "    query = \" \".join(data.keys())\n",
    "    output_file(\"{}.html\".format(query), title =\"{} Share Price\".format(query))\n",
    "    TOOLS = \"resize,crosshair,box_zoom,reset,box_select,save\"\n",
    "    figs = []\n",
    "    TOOLS = \"resize,crosshair,box_zoom,reset,box_select,save\"\n",
    "    \n",
    "    #Only loop over the variables that are not \n",
    "    for ticker, df in data.iteritems(): \n",
    "        p = figure(title = \"{}\".format(ticker), x_axis_label = None, y_axis_label = \"Price (USD)\",\\\n",
    "                 x_axis_type = \"datetime\", tools = TOOLS, width = 800, height = 400)\n",
    "\n",
    "        p.line(df.index, df.Close, line_width = 2)\n",
    "        p.background_fill_color = 'darkslateblue'\n",
    "        p.background_fill_alpha = 0.15\n",
    "        p.xgrid.grid_line_width = 2\n",
    "        p.ygrid.grid_line_width = 2\n",
    "        p.xgrid.grid_line_color = 'white'\n",
    "        p.ygrid.grid_line_color = 'white'\n",
    "        figs.append(p)\n",
    "    return vplot(*figs)"
   ]
  },
  {
   "cell_type": "code",
   "execution_count": 47,
   "metadata": {
    "collapsed": false
   },
   "outputs": [
    {
     "name": "stdout",
     "output_type": "stream",
     "text": [
      "Enter a Stock Ticker: MSFT, AAPL, GOOG';';';';';';\n"
     ]
    }
   ],
   "source": [
    "data = get_data_quick(process_input())"
   ]
  },
  {
   "cell_type": "code",
   "execution_count": 48,
   "metadata": {
    "collapsed": false
   },
   "outputs": [
    {
     "name": "stderr",
     "output_type": "stream",
     "text": [
      "ERROR:/Users/tjrempel/anaconda/lib/python2.7/site-packages/bokeh/core/validation/check.pyc:W-1001 (NO_DATA_RENDERERS): Plot has no data renderers: Figure, ViewModel:Plot, ref _id: f89ab969-1de5-486d-b423-dcb89216aeea\n"
     ]
    }
   ],
   "source": [
    "show(produce_plot(data))"
   ]
  },
  {
   "cell_type": "code",
   "execution_count": 49,
   "metadata": {
    "collapsed": true
   },
   "outputs": [],
   "source": [
    "import requests"
   ]
  },
  {
   "cell_type": "code",
   "execution_count": 67,
   "metadata": {
    "collapsed": true
   },
   "outputs": [],
   "source": [
    "url = \"https://www.quandl.com/api/v3/datasets/WIKI/\"\n",
    "stock = \"GOOG\"\n",
    "ftype = \".csv\"\n",
    "data = {'apikey':key}\n",
    "r = requests.get(url+stock+ftype, data)"
   ]
  },
  {
   "cell_type": "code",
   "execution_count": 80,
   "metadata": {
    "collapsed": false
   },
   "outputs": [],
   "source": [
    "url2 = \"https://www.quandl.com/data/WIKI/\"\n",
    "data = {'keyword':'GOOG', 'apikey':key}"
   ]
  },
  {
   "cell_type": "code",
   "execution_count": 83,
   "metadata": {
    "collapsed": false
   },
   "outputs": [],
   "source": [
    "r2 = requests.get(url2, data)"
   ]
  },
  {
   "cell_type": "code",
   "execution_count": null,
   "metadata": {
    "collapsed": true
   },
   "outputs": [],
   "source": []
  }
 ],
 "metadata": {
  "kernelspec": {
   "display_name": "Python 2",
   "language": "python",
   "name": "python2"
  },
  "language_info": {
   "codemirror_mode": {
    "name": "ipython",
    "version": 2
   },
   "file_extension": ".py",
   "mimetype": "text/x-python",
   "name": "python",
   "nbconvert_exporter": "python",
   "pygments_lexer": "ipython2",
   "version": "2.7.11"
  }
 },
 "nbformat": 4,
 "nbformat_minor": 0
}
