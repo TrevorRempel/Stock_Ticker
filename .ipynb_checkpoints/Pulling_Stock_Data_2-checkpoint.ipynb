{
 "cells": [
  {
   "cell_type": "code",
   "execution_count": 3,
   "metadata": {
    "collapsed": false
   },
   "outputs": [],
   "source": [
    "import requests\n",
    "import numpy as np\n",
    "import pandas as pd \n",
    "import seaborn as sns\n",
    "import re\n",
    "import matplotlib.pyplot as plt\n",
    "from bokeh.plotting import figure, output_file, show, gridplot,vplot, save\n",
    "from bokeh.models import ColumnDataSource\n",
    "from bokeh.mpl import to_bokeh\n",
    "%matplotlib inline"
   ]
  },
  {
   "cell_type": "code",
   "execution_count": 4,
   "metadata": {
    "collapsed": true
   },
   "outputs": [],
   "source": [
    "OPTIONS = [u'Open', u'High', u'Low', u'Close', u'Volume', u'Adj. Open', u'Adj. High', u'Adj. Low', u'Adj. Close',\n",
    "       u'Adj. Volume']"
   ]
  },
  {
   "cell_type": "code",
   "execution_count": 5,
   "metadata": {
    "collapsed": false
   },
   "outputs": [],
   "source": [
    "f = open('qunadlApi.txt')\n",
    "key = f.readline().split(':')[-1]"
   ]
  },
  {
   "cell_type": "code",
   "execution_count": 6,
   "metadata": {
    "collapsed": true
   },
   "outputs": [],
   "source": [
    "def process_input():\n",
    "    patt = re.compile(r\"\\W+\")\n",
    "    stock = raw_input(\"Enter a Stock Ticker: \")\n",
    "    return re.split(patt, stock)"
   ]
  },
  {
   "cell_type": "code",
   "execution_count": 48,
   "metadata": {
    "collapsed": true
   },
   "outputs": [],
   "source": [
    "url = \"https://www.quandl.com/api/v3/datasets/WIKI/\"\n",
    "ftype = \".csv\"\n",
    "APIKEY = {'api_key':key}\n",
    "def request_to_df(r, options):\n",
    "    df = pd.read_csv(r.url, index_col='Date', usecols = options)[::-1]\n",
    "    df.index = pd.to_datetime(df.index)\n",
    "    return df\n",
    "\n",
    "def get_data(query, options):\n",
    "    df = {}\n",
    "    for item in query:\n",
    "        r = requests.get(url+item+ftype,APIKEY)\n",
    "        if r.ok:\n",
    "            df[item] = request_to_df(r, options)\n",
    "    return df  "
   ]
  },
  {
   "cell_type": "code",
   "execution_count": 49,
   "metadata": {
    "collapsed": false
   },
   "outputs": [],
   "source": [
    "df = get_data(['GOOGL'], ['Date','Open','Close'])['GOOGL']"
   ]
  },
  {
   "cell_type": "code",
   "execution_count": 54,
   "metadata": {
    "collapsed": false
   },
   "outputs": [
    {
     "data": {
      "text/plain": [
       "(2918, 2)"
      ]
     },
     "execution_count": 54,
     "metadata": {},
     "output_type": "execute_result"
    }
   ],
   "source": [
    "df.shape"
   ]
  },
  {
   "cell_type": "code",
   "execution_count": 16,
   "metadata": {
    "collapsed": true
   },
   "outputs": [],
   "source": [
    "def produce_plot(data, to_plot = ['Close']):\n",
    "    query = \"_\".join(data.keys())\n",
    "    output_file(\"{}.html\".format(query), title =\"{} Share Price\".format(query))\n",
    "    \n",
    "    figs = []\n",
    "    TOOLS = \"resize,crosshair,box_zoom,reset,box_select,save\"\n",
    "    \n",
    "    num_lines = len(to_plot)\n",
    "    colors = sns.color_palette('deep',num_lines).as_hex()\n",
    "    #Only loop over the variables that are not \n",
    "    for ticker, df in data.iteritems(): \n",
    "        p = figure(title = \"{}\".format(ticker), x_axis_label = None, y_axis_label = \"Price (USD)\",\\\n",
    "                 x_axis_type = \"datetime\", tools = TOOLS, width = 800, height = 400)\n",
    "\n",
    "        for i, name in enumerate(to_plot):\n",
    "            p.line(df.index, df[name], color = colors[i], legend = name, line_width = 2)\n",
    "            \n",
    "        p.background_fill_color = 'darkslateblue'\n",
    "        p.background_fill_alpha = 0.15\n",
    "        \n",
    "        p.legend.background_fill_color = 'darkslateblue'\n",
    "        p.legend.background_fill_alpha = 0.001\n",
    "        p.legend.border_line_width = 0.1\n",
    "        p.legend.border_line_color = \"darkslateblue\"\n",
    "        p.legend.border_line_alpha = 0.001\n",
    "        p.legend.location = \"top_left\"\n",
    "        \n",
    "        p.xgrid.grid_line_width = 2\n",
    "        p.ygrid.grid_line_width = 2\n",
    "        p.xgrid.grid_line_color = 'white'\n",
    "        p.ygrid.grid_line_color = 'white'\n",
    "        figs.append(p)\n",
    "    return vplot(*figs)"
   ]
  },
  {
   "cell_type": "code",
   "execution_count": 19,
   "metadata": {
    "collapsed": false
   },
   "outputs": [
    {
     "name": "stdout",
     "output_type": "stream",
     "text": [
      "Enter a Stock Ticker: AAPL, GOOGL, TSLA\n"
     ]
    }
   ],
   "source": [
    "data = get_data(process_input())"
   ]
  },
  {
   "cell_type": "code",
   "execution_count": 20,
   "metadata": {
    "collapsed": false
   },
   "outputs": [],
   "source": [
    "show(produce_plot(data, to_plot = [OPTIONS[-2]]))"
   ]
  },
  {
   "cell_type": "code",
   "execution_count": 55,
   "metadata": {
    "collapsed": true
   },
   "outputs": [],
   "source": [
    "x = ['Close']"
   ]
  },
  {
   "cell_type": "code",
   "execution_count": 56,
   "metadata": {
    "collapsed": false
   },
   "outputs": [],
   "source": [
    "x = x.insert(0,'C')"
   ]
  },
  {
   "cell_type": "code",
   "execution_count": 57,
   "metadata": {
    "collapsed": false
   },
   "outputs": [
    {
     "name": "stdout",
     "output_type": "stream",
     "text": [
      "None\n"
     ]
    }
   ],
   "source": [
    "print x"
   ]
  },
  {
   "cell_type": "code",
   "execution_count": null,
   "metadata": {
    "collapsed": true
   },
   "outputs": [],
   "source": []
  },
  {
   "cell_type": "code",
   "execution_count": null,
   "metadata": {
    "collapsed": true
   },
   "outputs": [],
   "source": []
  },
  {
   "cell_type": "code",
   "execution_count": null,
   "metadata": {
    "collapsed": true
   },
   "outputs": [],
   "source": []
  }
 ],
 "metadata": {
  "kernelspec": {
   "display_name": "Python 2",
   "language": "python",
   "name": "python2"
  },
  "language_info": {
   "codemirror_mode": {
    "name": "ipython",
    "version": 2
   },
   "file_extension": ".py",
   "mimetype": "text/x-python",
   "name": "python",
   "nbconvert_exporter": "python",
   "pygments_lexer": "ipython2",
   "version": "2.7.11"
  }
 },
 "nbformat": 4,
 "nbformat_minor": 0
}
